{
 "cells": [
  {
   "cell_type": "markdown",
   "id": "06894ff6",
   "metadata": {},
   "source": [
    "# Description : Program used for predicting the price of BitCoin."
   ]
  },
  {
   "cell_type": "markdown",
   "id": "a5e77cea",
   "metadata": {},
   "source": [
    "# Importing Libraries :"
   ]
  },
  {
   "cell_type": "code",
   "execution_count": 66,
   "id": "37c93327",
   "metadata": {},
   "outputs": [],
   "source": [
    "import pandas as pd\n",
    "import numpy as np\n",
    "import requests\n",
    "import matplotlib.pyplot as plt\n",
    "from sklearn.preprocessing import MinMaxScaler\n",
    "from tensorflow.keras.layers import Dense, Dropout, LSTM\n",
    "from tensorflow.keras.models import Sequential"
   ]
  },
  {
   "cell_type": "markdown",
   "id": "431f50fc",
   "metadata": {},
   "source": [
    "# Importing Dataset :"
   ]
  },
  {
   "cell_type": "code",
   "execution_count": 67,
   "id": "715d62a1",
   "metadata": {},
   "outputs": [],
   "source": [
    "api_key = '1a8d5127571f4295b6fcb54cf1faaaaf'\n",
    "symbol = 'BTC/INR'\n",
    "interval = '5min'\n",
    "order = 'asc'\n",
    "start_date = '2022-01-08 06:00:00'\n",
    "end_date = '2022-01-26 00:00:00'\n",
    "\n",
    "api_url = f'https://api.twelvedata.com/time_series?symbol={symbol}&start_date={start_date}&end_date={end_date}&interval={interval}&order={order}&apikey={api_key}'\n"
   ]
  },
  {
   "cell_type": "code",
   "execution_count": 68,
   "id": "dc216fff",
   "metadata": {},
   "outputs": [
    {
     "data": {
      "text/html": [
       "<div>\n",
       "<style scoped>\n",
       "    .dataframe tbody tr th:only-of-type {\n",
       "        vertical-align: middle;\n",
       "    }\n",
       "\n",
       "    .dataframe tbody tr th {\n",
       "        vertical-align: top;\n",
       "    }\n",
       "\n",
       "    .dataframe thead th {\n",
       "        text-align: right;\n",
       "    }\n",
       "</style>\n",
       "<table border=\"1\" class=\"dataframe\">\n",
       "  <thead>\n",
       "    <tr style=\"text-align: right;\">\n",
       "      <th></th>\n",
       "      <th>datetime</th>\n",
       "      <th>open</th>\n",
       "      <th>high</th>\n",
       "      <th>low</th>\n",
       "      <th>close</th>\n",
       "    </tr>\n",
       "  </thead>\n",
       "  <tbody>\n",
       "    <tr>\n",
       "      <th>0</th>\n",
       "      <td>2022-01-08 15:20:00</td>\n",
       "      <td>3091746.00000</td>\n",
       "      <td>3094824.25000</td>\n",
       "      <td>3091746.00000</td>\n",
       "      <td>3092770.25000</td>\n",
       "    </tr>\n",
       "    <tr>\n",
       "      <th>1</th>\n",
       "      <td>2022-01-08 15:25:00</td>\n",
       "      <td>3089894.00000</td>\n",
       "      <td>3089894.00000</td>\n",
       "      <td>3086268.00000</td>\n",
       "      <td>3089139.25000</td>\n",
       "    </tr>\n",
       "    <tr>\n",
       "      <th>2</th>\n",
       "      <td>2022-01-08 15:30:00</td>\n",
       "      <td>3089802.75000</td>\n",
       "      <td>3092887.50000</td>\n",
       "      <td>3083394.25000</td>\n",
       "      <td>3083394.25000</td>\n",
       "    </tr>\n",
       "    <tr>\n",
       "      <th>3</th>\n",
       "      <td>2022-01-08 15:35:00</td>\n",
       "      <td>3082846.50000</td>\n",
       "      <td>3088288.50000</td>\n",
       "      <td>3082846.50000</td>\n",
       "      <td>3088015.50000</td>\n",
       "    </tr>\n",
       "    <tr>\n",
       "      <th>4</th>\n",
       "      <td>2022-01-08 15:40:00</td>\n",
       "      <td>3088689.50000</td>\n",
       "      <td>3093807.25000</td>\n",
       "      <td>3088689.50000</td>\n",
       "      <td>3093807.25000</td>\n",
       "    </tr>\n",
       "    <tr>\n",
       "      <th>...</th>\n",
       "      <td>...</td>\n",
       "      <td>...</td>\n",
       "      <td>...</td>\n",
       "      <td>...</td>\n",
       "      <td>...</td>\n",
       "    </tr>\n",
       "    <tr>\n",
       "      <th>4995</th>\n",
       "      <td>2022-01-25 23:40:00</td>\n",
       "      <td>2763565.75000</td>\n",
       "      <td>2763565.75000</td>\n",
       "      <td>2760020.00000</td>\n",
       "      <td>2761070.00000</td>\n",
       "    </tr>\n",
       "    <tr>\n",
       "      <th>4996</th>\n",
       "      <td>2022-01-25 23:45:00</td>\n",
       "      <td>2760387.25000</td>\n",
       "      <td>2768787.25000</td>\n",
       "      <td>2760387.25000</td>\n",
       "      <td>2768787.25000</td>\n",
       "    </tr>\n",
       "    <tr>\n",
       "      <th>4997</th>\n",
       "      <td>2022-01-25 23:50:00</td>\n",
       "      <td>2767875.00000</td>\n",
       "      <td>2767875.00000</td>\n",
       "      <td>2763488.00000</td>\n",
       "      <td>2764794.50000</td>\n",
       "    </tr>\n",
       "    <tr>\n",
       "      <th>4998</th>\n",
       "      <td>2022-01-25 23:55:00</td>\n",
       "      <td>2762586.00000</td>\n",
       "      <td>2762879.00000</td>\n",
       "      <td>2758644.00000</td>\n",
       "      <td>2760929.50000</td>\n",
       "    </tr>\n",
       "    <tr>\n",
       "      <th>4999</th>\n",
       "      <td>2022-01-26 00:00:00</td>\n",
       "      <td>2764757.25000</td>\n",
       "      <td>2765405.50000</td>\n",
       "      <td>2756677.00000</td>\n",
       "      <td>2756677.00000</td>\n",
       "    </tr>\n",
       "  </tbody>\n",
       "</table>\n",
       "<p>5000 rows × 5 columns</p>\n",
       "</div>"
      ],
      "text/plain": [
       "                 datetime           open           high            low  \\\n",
       "0     2022-01-08 15:20:00  3091746.00000  3094824.25000  3091746.00000   \n",
       "1     2022-01-08 15:25:00  3089894.00000  3089894.00000  3086268.00000   \n",
       "2     2022-01-08 15:30:00  3089802.75000  3092887.50000  3083394.25000   \n",
       "3     2022-01-08 15:35:00  3082846.50000  3088288.50000  3082846.50000   \n",
       "4     2022-01-08 15:40:00  3088689.50000  3093807.25000  3088689.50000   \n",
       "...                   ...            ...            ...            ...   \n",
       "4995  2022-01-25 23:40:00  2763565.75000  2763565.75000  2760020.00000   \n",
       "4996  2022-01-25 23:45:00  2760387.25000  2768787.25000  2760387.25000   \n",
       "4997  2022-01-25 23:50:00  2767875.00000  2767875.00000  2763488.00000   \n",
       "4998  2022-01-25 23:55:00  2762586.00000  2762879.00000  2758644.00000   \n",
       "4999  2022-01-26 00:00:00  2764757.25000  2765405.50000  2756677.00000   \n",
       "\n",
       "              close  \n",
       "0     3092770.25000  \n",
       "1     3089139.25000  \n",
       "2     3083394.25000  \n",
       "3     3088015.50000  \n",
       "4     3093807.25000  \n",
       "...             ...  \n",
       "4995  2761070.00000  \n",
       "4996  2768787.25000  \n",
       "4997  2764794.50000  \n",
       "4998  2760929.50000  \n",
       "4999  2756677.00000  \n",
       "\n",
       "[5000 rows x 5 columns]"
      ]
     },
     "execution_count": 68,
     "metadata": {},
     "output_type": "execute_result"
    }
   ],
   "source": [
    "data = requests.get(api_url).json()\n",
    "data_final = pd.DataFrame(data['values'])\n",
    "data_final"
   ]
  },
  {
   "cell_type": "code",
   "execution_count": 69,
   "id": "df1d8e28",
   "metadata": {},
   "outputs": [
    {
     "data": {
      "text/plain": [
       "dict_keys(['meta', 'values', 'status'])"
      ]
     },
     "execution_count": 69,
     "metadata": {},
     "output_type": "execute_result"
    }
   ],
   "source": [
    "data.keys()"
   ]
  },
  {
   "cell_type": "markdown",
   "id": "b4056ba5",
   "metadata": {},
   "source": [
    "# Data Cleaning :"
   ]
  },
  {
   "cell_type": "code",
   "execution_count": 70,
   "id": "836fa4b0",
   "metadata": {},
   "outputs": [],
   "source": [
    "scaler = MinMaxScaler(feature_range=(0,1))\n",
    "scaled_data = scaler.fit_transform(data_final['close'].values.reshape(-1,1))"
   ]
  },
  {
   "cell_type": "code",
   "execution_count": 71,
   "id": "b8297764",
   "metadata": {},
   "outputs": [
    {
     "data": {
      "text/plain": [
       "array([['3092770.25000'],\n",
       "       ['3089139.25000'],\n",
       "       ['3083394.25000'],\n",
       "       ...,\n",
       "       ['2764794.50000'],\n",
       "       ['2760929.50000'],\n",
       "       ['2756677.00000']], dtype=object)"
      ]
     },
     "execution_count": 71,
     "metadata": {},
     "output_type": "execute_result"
    }
   ],
   "source": [
    "data_final['close'].values.reshape(-1,1)"
   ]
  },
  {
   "cell_type": "code",
   "execution_count": 72,
   "id": "698f6cda",
   "metadata": {},
   "outputs": [
    {
     "data": {
      "text/plain": [
       "(5000, 1)"
      ]
     },
     "execution_count": 72,
     "metadata": {},
     "output_type": "execute_result"
    }
   ],
   "source": [
    "data_final['close'].values.reshape(-1,1).shape"
   ]
  },
  {
   "cell_type": "code",
   "execution_count": 73,
   "id": "e6a2fb21",
   "metadata": {},
   "outputs": [
    {
     "data": {
      "text/plain": [
       "array([[0.77616532],\n",
       "       [0.77162504],\n",
       "       [0.76444136],\n",
       "       ...,\n",
       "       [0.3660571 ],\n",
       "       [0.36122421],\n",
       "       [0.35590679]])"
      ]
     },
     "execution_count": 73,
     "metadata": {},
     "output_type": "execute_result"
    }
   ],
   "source": [
    "scaled_data"
   ]
  },
  {
   "cell_type": "code",
   "execution_count": 74,
   "id": "005c1172",
   "metadata": {},
   "outputs": [
    {
     "data": {
      "text/plain": [
       "(5000, 1)"
      ]
     },
     "execution_count": 74,
     "metadata": {},
     "output_type": "execute_result"
    }
   ],
   "source": [
    "scaled_data.shape"
   ]
  },
  {
   "cell_type": "markdown",
   "id": "0ec0712e",
   "metadata": {},
   "source": [
    "# Create Training Dataset :"
   ]
  },
  {
   "cell_type": "code",
   "execution_count": 75,
   "id": "5fffc43e",
   "metadata": {},
   "outputs": [],
   "source": [
    "time_interval_to_train = 24\n",
    "prediction_interval = 12\n",
    "\n",
    "x_train = []\n",
    "y_train = []"
   ]
  },
  {
   "cell_type": "code",
   "execution_count": 76,
   "id": "2cf6622a",
   "metadata": {},
   "outputs": [],
   "source": [
    "for i in range(time_interval_to_train, len(scaled_data) - prediction_interval):\n",
    "    x_train.append(scaled_data[i - time_interval_to_train: i, 0])\n",
    "    y_train.append(scaled_data[i + prediction_interval, 0])\n",
    "\n",
    "x_train = np.array(x_train)\n",
    "y_train = np.array(y_train)"
   ]
  },
  {
   "cell_type": "code",
   "execution_count": 77,
   "id": "b789141f",
   "metadata": {},
   "outputs": [
    {
     "data": {
      "text/plain": [
       "array([[0.77616532, 0.77162504, 0.76444136, ..., 0.7343859 , 0.7296171 ,\n",
       "        0.7434574 ],\n",
       "       [0.77162504, 0.76444136, 0.77021988, ..., 0.7296171 , 0.7434574 ,\n",
       "        0.73954264],\n",
       "       [0.76444136, 0.77021988, 0.77746201, ..., 0.7434574 , 0.73954264,\n",
       "        0.74181372],\n",
       "       ...,\n",
       "       [0.35655045, 0.35341595, 0.34560081, ..., 0.34508845, 0.34660084,\n",
       "        0.34876876],\n",
       "       [0.35341595, 0.34560081, 0.33188837, ..., 0.34660084, 0.34876876,\n",
       "        0.35279043],\n",
       "       [0.34560081, 0.33188837, 0.34141471, ..., 0.34876876, 0.35279043,\n",
       "        0.35216803]])"
      ]
     },
     "execution_count": 77,
     "metadata": {},
     "output_type": "execute_result"
    }
   ],
   "source": [
    "x_train"
   ]
  },
  {
   "cell_type": "code",
   "execution_count": 78,
   "id": "f18f72d5",
   "metadata": {},
   "outputs": [],
   "source": [
    "x_train = np.reshape(x_train, (x_train.shape[0], x_train.shape[1], 1))"
   ]
  },
  {
   "cell_type": "code",
   "execution_count": 79,
   "id": "e8c07a82",
   "metadata": {},
   "outputs": [
    {
     "data": {
      "text/plain": [
       "(4964, 24, 1)"
      ]
     },
     "execution_count": 79,
     "metadata": {},
     "output_type": "execute_result"
    }
   ],
   "source": [
    "x_train.shape"
   ]
  },
  {
   "cell_type": "markdown",
   "id": "34ebd8db",
   "metadata": {},
   "source": [
    "# Training Model :"
   ]
  },
  {
   "cell_type": "code",
   "execution_count": 104,
   "id": "5f914b8e",
   "metadata": {},
   "outputs": [
    {
     "name": "stdout",
     "output_type": "stream",
     "text": [
      "WARNING:tensorflow:Layer lstm_6 will not use cuDNN kernels since it doesn't meet the criteria. It will use a generic GPU kernel as fallback when running on GPU.\n",
      "WARNING:tensorflow:Layer lstm_7 will not use cuDNN kernels since it doesn't meet the criteria. It will use a generic GPU kernel as fallback when running on GPU.\n",
      "WARNING:tensorflow:Layer lstm_8 will not use cuDNN kernels since it doesn't meet the criteria. It will use a generic GPU kernel as fallback when running on GPU.\n"
     ]
    }
   ],
   "source": [
    "model = Sequential()\n",
    "\n",
    "model.add(LSTM(128, return_sequences = True, input_shape = (x_train.shape[1],1), activation = 'relu'))\n",
    "model.add(Dropout(0.4))\n",
    "model.add(LSTM(64, return_sequences = True, activation = 'relu'))\n",
    "model.add(Dropout(0.3))\n",
    "model.add(LSTM(32, activation = 'relu'))\n",
    "model.add(Dropout(0.2))\n",
    "model.add(Dense(1, activation = 'sigmoid'))"
   ]
  },
  {
   "cell_type": "code",
   "execution_count": 105,
   "id": "09853bc2",
   "metadata": {},
   "outputs": [],
   "source": [
    "model.compile(loss = 'mean_squared_error', optimizer = 'adam', metrics=['accuracy'])"
   ]
  },
  {
   "cell_type": "code",
   "execution_count": 106,
   "id": "f7ed1e52",
   "metadata": {},
   "outputs": [
    {
     "name": "stdout",
     "output_type": "stream",
     "text": [
      "Epoch 1/10\n",
      "78/78 [==============================] - 28s 326ms/step - loss: 0.0408 - accuracy: 2.0145e-04\n",
      "Epoch 2/10\n",
      "78/78 [==============================] - 25s 321ms/step - loss: 0.0038 - accuracy: 4.0290e-04\n",
      "Epoch 3/10\n",
      "78/78 [==============================] - 25s 321ms/step - loss: 0.0029 - accuracy: 4.0290e-04\n",
      "Epoch 4/10\n",
      "78/78 [==============================] - 25s 317ms/step - loss: 0.0028 - accuracy: 4.0290e-04\n",
      "Epoch 5/10\n",
      "78/78 [==============================] - 31s 404ms/step - loss: 0.0026 - accuracy: 4.0290e-04\n",
      "Epoch 6/10\n",
      "78/78 [==============================] - 26s 327ms/step - loss: 0.0025 - accuracy: 4.0290e-04\n",
      "Epoch 7/10\n",
      "78/78 [==============================] - 26s 336ms/step - loss: 0.0025 - accuracy: 4.0290e-04\n",
      "Epoch 8/10\n",
      "78/78 [==============================] - 26s 334ms/step - loss: 0.0024 - accuracy: 4.0290e-04\n",
      "Epoch 9/10\n",
      "78/78 [==============================] - 26s 332ms/step - loss: 0.0024 - accuracy: 4.0290e-04\n",
      "Epoch 10/10\n",
      "78/78 [==============================] - 26s 334ms/step - loss: 0.0023 - accuracy: 4.0290e-04\n"
     ]
    },
    {
     "data": {
      "text/plain": [
       "<keras.callbacks.History at 0x1e601e91d60>"
      ]
     },
     "execution_count": 106,
     "metadata": {},
     "output_type": "execute_result"
    }
   ],
   "source": [
    "model.fit(x_train, y_train, epochs = 10, batch_size = 64)"
   ]
  },
  {
   "cell_type": "markdown",
   "id": "5bba76e3",
   "metadata": {},
   "source": [
    "# Create Testing Dataset :"
   ]
  },
  {
   "cell_type": "code",
   "execution_count": 107,
   "id": "410dc5e3",
   "metadata": {},
   "outputs": [
    {
     "data": {
      "text/html": [
       "<div>\n",
       "<style scoped>\n",
       "    .dataframe tbody tr th:only-of-type {\n",
       "        vertical-align: middle;\n",
       "    }\n",
       "\n",
       "    .dataframe tbody tr th {\n",
       "        vertical-align: top;\n",
       "    }\n",
       "\n",
       "    .dataframe thead th {\n",
       "        text-align: right;\n",
       "    }\n",
       "</style>\n",
       "<table border=\"1\" class=\"dataframe\">\n",
       "  <thead>\n",
       "    <tr style=\"text-align: right;\">\n",
       "      <th></th>\n",
       "      <th>datetime</th>\n",
       "      <th>open</th>\n",
       "      <th>high</th>\n",
       "      <th>low</th>\n",
       "      <th>close</th>\n",
       "    </tr>\n",
       "  </thead>\n",
       "  <tbody>\n",
       "    <tr>\n",
       "      <th>0</th>\n",
       "      <td>2022-01-27 06:00:00</td>\n",
       "      <td>2703329.00000</td>\n",
       "      <td>2704087.00000</td>\n",
       "      <td>2702321.00000</td>\n",
       "      <td>2702370.25000</td>\n",
       "    </tr>\n",
       "    <tr>\n",
       "      <th>1</th>\n",
       "      <td>2022-01-27 06:05:00</td>\n",
       "      <td>2700969.25000</td>\n",
       "      <td>2700969.25000</td>\n",
       "      <td>2696151.50000</td>\n",
       "      <td>2696587.25000</td>\n",
       "    </tr>\n",
       "    <tr>\n",
       "      <th>2</th>\n",
       "      <td>2022-01-27 06:10:00</td>\n",
       "      <td>2701038.00000</td>\n",
       "      <td>2701374.75000</td>\n",
       "      <td>2698813.25000</td>\n",
       "      <td>2699671.25000</td>\n",
       "    </tr>\n",
       "    <tr>\n",
       "      <th>3</th>\n",
       "      <td>2022-01-27 06:15:00</td>\n",
       "      <td>2700533.50000</td>\n",
       "      <td>2703333.75000</td>\n",
       "      <td>2698615.25000</td>\n",
       "      <td>2703333.75000</td>\n",
       "    </tr>\n",
       "    <tr>\n",
       "      <th>4</th>\n",
       "      <td>2022-01-27 06:20:00</td>\n",
       "      <td>2704275.00000</td>\n",
       "      <td>2705182.00000</td>\n",
       "      <td>2703905.50000</td>\n",
       "      <td>2703905.50000</td>\n",
       "    </tr>\n",
       "    <tr>\n",
       "      <th>...</th>\n",
       "      <td>...</td>\n",
       "      <td>...</td>\n",
       "      <td>...</td>\n",
       "      <td>...</td>\n",
       "      <td>...</td>\n",
       "    </tr>\n",
       "    <tr>\n",
       "      <th>4521</th>\n",
       "      <td>2022-02-11 23:40:00</td>\n",
       "      <td>3205851.50000</td>\n",
       "      <td>3205851.50000</td>\n",
       "      <td>3202725.25000</td>\n",
       "      <td>3202725.25000</td>\n",
       "    </tr>\n",
       "    <tr>\n",
       "      <th>4522</th>\n",
       "      <td>2022-02-11 23:45:00</td>\n",
       "      <td>3204010.25000</td>\n",
       "      <td>3204010.25000</td>\n",
       "      <td>3197602.75000</td>\n",
       "      <td>3198840.25000</td>\n",
       "    </tr>\n",
       "    <tr>\n",
       "      <th>4523</th>\n",
       "      <td>2022-02-11 23:50:00</td>\n",
       "      <td>3201275.75000</td>\n",
       "      <td>3206968.00000</td>\n",
       "      <td>3201275.75000</td>\n",
       "      <td>3205575.50000</td>\n",
       "    </tr>\n",
       "    <tr>\n",
       "      <th>4524</th>\n",
       "      <td>2022-02-11 23:55:00</td>\n",
       "      <td>3206422.00000</td>\n",
       "      <td>3206828.00000</td>\n",
       "      <td>3204778.25000</td>\n",
       "      <td>3204778.25000</td>\n",
       "    </tr>\n",
       "    <tr>\n",
       "      <th>4525</th>\n",
       "      <td>2022-02-12 00:00:00</td>\n",
       "      <td>3206152.50000</td>\n",
       "      <td>3207122.25000</td>\n",
       "      <td>3200853.00000</td>\n",
       "      <td>3200853.00000</td>\n",
       "    </tr>\n",
       "  </tbody>\n",
       "</table>\n",
       "<p>4526 rows × 5 columns</p>\n",
       "</div>"
      ],
      "text/plain": [
       "                 datetime           open           high            low  \\\n",
       "0     2022-01-27 06:00:00  2703329.00000  2704087.00000  2702321.00000   \n",
       "1     2022-01-27 06:05:00  2700969.25000  2700969.25000  2696151.50000   \n",
       "2     2022-01-27 06:10:00  2701038.00000  2701374.75000  2698813.25000   \n",
       "3     2022-01-27 06:15:00  2700533.50000  2703333.75000  2698615.25000   \n",
       "4     2022-01-27 06:20:00  2704275.00000  2705182.00000  2703905.50000   \n",
       "...                   ...            ...            ...            ...   \n",
       "4521  2022-02-11 23:40:00  3205851.50000  3205851.50000  3202725.25000   \n",
       "4522  2022-02-11 23:45:00  3204010.25000  3204010.25000  3197602.75000   \n",
       "4523  2022-02-11 23:50:00  3201275.75000  3206968.00000  3201275.75000   \n",
       "4524  2022-02-11 23:55:00  3206422.00000  3206828.00000  3204778.25000   \n",
       "4525  2022-02-12 00:00:00  3206152.50000  3207122.25000  3200853.00000   \n",
       "\n",
       "              close  \n",
       "0     2702370.25000  \n",
       "1     2696587.25000  \n",
       "2     2699671.25000  \n",
       "3     2703333.75000  \n",
       "4     2703905.50000  \n",
       "...             ...  \n",
       "4521  3202725.25000  \n",
       "4522  3198840.25000  \n",
       "4523  3205575.50000  \n",
       "4524  3204778.25000  \n",
       "4525  3200853.00000  \n",
       "\n",
       "[4526 rows x 5 columns]"
      ]
     },
     "execution_count": 107,
     "metadata": {},
     "output_type": "execute_result"
    }
   ],
   "source": [
    "test_start = '2022-01-27 06:00:00'\n",
    "test_end = '2022-02-12 00:00:00'\n",
    "\n",
    "test_api_url = f'https://api.twelvedata.com/time_series?symbol={symbol}&start_date={test_start}&end_date={test_end}&interval={interval}&order={order}&apikey={api_key}'\n",
    "test_data = requests.get(test_api_url).json()\n",
    "test_data_final = pd.DataFrame(test_data['values'])\n",
    "test_data_final"
   ]
  },
  {
   "cell_type": "code",
   "execution_count": 108,
   "id": "2e089b17",
   "metadata": {},
   "outputs": [
    {
     "data": {
      "text/plain": [
       "0       2702370.25000\n",
       "1       2696587.25000\n",
       "2       2699671.25000\n",
       "3       2703333.75000\n",
       "4       2703905.50000\n",
       "            ...      \n",
       "4521    3202725.25000\n",
       "4522    3198840.25000\n",
       "4523    3205575.50000\n",
       "4524    3204778.25000\n",
       "4525    3200853.00000\n",
       "Name: close, Length: 4526, dtype: object"
      ]
     },
     "execution_count": 108,
     "metadata": {},
     "output_type": "execute_result"
    }
   ],
   "source": [
    "test_data_final['close']"
   ]
  },
  {
   "cell_type": "code",
   "execution_count": 109,
   "id": "0d8f2833",
   "metadata": {},
   "outputs": [
    {
     "data": {
      "text/plain": [
       "0       2702370.25\n",
       "1       2696587.25\n",
       "2       2699671.25\n",
       "3       2703333.75\n",
       "4       2703905.50\n",
       "           ...    \n",
       "4521    3202725.25\n",
       "4522    3198840.25\n",
       "4523    3205575.50\n",
       "4524    3204778.25\n",
       "4525    3200853.00\n",
       "Name: close, Length: 4526, dtype: float64"
      ]
     },
     "execution_count": 109,
     "metadata": {},
     "output_type": "execute_result"
    }
   ],
   "source": [
    " pd.to_numeric(test_data_final['close'])"
   ]
  },
  {
   "cell_type": "code",
   "execution_count": 110,
   "id": "03f25955",
   "metadata": {},
   "outputs": [],
   "source": [
    "bitcoin_prices = pd.to_numeric(test_data_final['close'], errors = 'coerce').values\n",
    "\n",
    "test_inputs = test_data_final['close'].values\n",
    "test_inputs = test_inputs.reshape(-1,1)\n",
    "model_inputs = scaler.fit_transform(test_inputs)"
   ]
  },
  {
   "cell_type": "code",
   "execution_count": 111,
   "id": "2d94c6d1",
   "metadata": {},
   "outputs": [
    {
     "data": {
      "text/plain": [
       "array([['2702370.25000'],\n",
       "       ['2696587.25000'],\n",
       "       ['2699671.25000'],\n",
       "       ...,\n",
       "       ['3205575.50000'],\n",
       "       ['3204778.25000'],\n",
       "       ['3200853.00000']], dtype=object)"
      ]
     },
     "execution_count": 111,
     "metadata": {},
     "output_type": "execute_result"
    }
   ],
   "source": [
    "test_inputs"
   ]
  },
  {
   "cell_type": "code",
   "execution_count": 112,
   "id": "89a046c6",
   "metadata": {},
   "outputs": [
    {
     "data": {
      "text/plain": [
       "(4526, 1)"
      ]
     },
     "execution_count": 112,
     "metadata": {},
     "output_type": "execute_result"
    }
   ],
   "source": [
    "model_inputs.shape"
   ]
  },
  {
   "cell_type": "code",
   "execution_count": 113,
   "id": "bb9050e9",
   "metadata": {},
   "outputs": [],
   "source": [
    "x_test = []\n",
    "\n",
    "for x in range(time_interval_to_train, len(model_inputs)):\n",
    "    x_test.append(model_inputs[x - time_interval_to_train:x, 0])\n",
    "\n",
    "x_test = np.array(x_test)\n",
    "x_test = np.reshape(x_test, (x_test.shape[0], x_test.shape[1], 1))"
   ]
  },
  {
   "cell_type": "code",
   "execution_count": 114,
   "id": "854c0b94",
   "metadata": {},
   "outputs": [
    {
     "data": {
      "text/plain": [
       "(4502, 24, 1)"
      ]
     },
     "execution_count": 114,
     "metadata": {},
     "output_type": "execute_result"
    }
   ],
   "source": [
    "x_test.shape"
   ]
  },
  {
   "cell_type": "markdown",
   "id": "fda9176a",
   "metadata": {},
   "source": [
    "# Evaluating the Model :"
   ]
  },
  {
   "cell_type": "code",
   "execution_count": 115,
   "id": "44b7c60b",
   "metadata": {},
   "outputs": [],
   "source": [
    "prediction_prices = model.predict(x_test)\n",
    "prediction_prices = scaler.inverse_transform(prediction_prices)"
   ]
  },
  {
   "cell_type": "code",
   "execution_count": 116,
   "id": "0e3a5132",
   "metadata": {},
   "outputs": [
    {
     "data": {
      "text/plain": [
       "array([[2744686.2],\n",
       "       [2745337.5],\n",
       "       [2746168.5],\n",
       "       ...,\n",
       "       [3200462. ],\n",
       "       [3200103.5],\n",
       "       [3200037.5]], dtype=float32)"
      ]
     },
     "execution_count": 116,
     "metadata": {},
     "output_type": "execute_result"
    }
   ],
   "source": [
    "prediction_prices"
   ]
  },
  {
   "cell_type": "code",
   "execution_count": 130,
   "id": "6717cbd9",
   "metadata": {},
   "outputs": [],
   "source": [
    "last_data = model_inputs[len(model_inputs) - time_interval_to_train : len(model_inputs)+1, 0]\n",
    "last_data = np.array(last_data)"
   ]
  },
  {
   "cell_type": "code",
   "execution_count": 131,
   "id": "9368d286",
   "metadata": {},
   "outputs": [
    {
     "data": {
      "text/plain": [
       "(24,)"
      ]
     },
     "execution_count": 131,
     "metadata": {},
     "output_type": "execute_result"
    }
   ],
   "source": [
    "last_data.shape"
   ]
  },
  {
   "cell_type": "code",
   "execution_count": 132,
   "id": "24bb3400",
   "metadata": {},
   "outputs": [],
   "source": [
    "last_data = np.reshape(last_data, (1, last_data.shape[0], 1))"
   ]
  },
  {
   "cell_type": "code",
   "execution_count": 133,
   "id": "d92ace88",
   "metadata": {},
   "outputs": [
    {
     "data": {
      "text/plain": [
       "(1, 24, 1)"
      ]
     },
     "execution_count": 133,
     "metadata": {},
     "output_type": "execute_result"
    }
   ],
   "source": [
    "last_data.shape"
   ]
  },
  {
   "cell_type": "code",
   "execution_count": 134,
   "id": "7a6a6029",
   "metadata": {},
   "outputs": [],
   "source": [
    "prediction = model.predict(last_data)"
   ]
  },
  {
   "cell_type": "code",
   "execution_count": 135,
   "id": "1e5c939a",
   "metadata": {},
   "outputs": [
    {
     "data": {
      "text/plain": [
       "array([[3200186.5]], dtype=float32)"
      ]
     },
     "execution_count": 135,
     "metadata": {},
     "output_type": "execute_result"
    }
   ],
   "source": [
    "prediction = scaler.inverse_transform(prediction)\n"
   ]
  },
  {
   "cell_type": "markdown",
   "id": "dc16cd71",
   "metadata": {},
   "source": [
    "# Result :"
   ]
  },
  {
   "cell_type": "code",
   "execution_count": 117,
   "id": "949906c9",
   "metadata": {},
   "outputs": [
    {
     "data": {
      "image/png": "[encoded data removed]",
      "text/plain": [
       "<Figure size 432x288 with 1 Axes>"
      ]
     },
     "metadata": {
      "needs_background": "light"
     },
     "output_type": "display_data"
    }
   ],
   "source": [
    "plt.plot(bitcoin_prices, label = 'Bitcoin Prices')\n",
    "plt.plot(prediction_prices, label = 'Predicted Prices')\n",
    "plt.title('Predicting Bitcoin Price')\n",
    "plt.xlabel('1 Hour Time Interval')\n",
    "plt.ylabel('Price')\n",
    "plt.legend()\n",
    "plt.show()"
   ]
  },
  {
   "cell_type": "code",
   "execution_count": 136,
   "id": "b250b9be",
   "metadata": {},
   "outputs": [
    {
     "data": {
      "text/plain": [
       "array([[3200186.5]], dtype=float32)"
      ]
     },
     "execution_count": 136,
     "metadata": {},
     "output_type": "execute_result"
    }
   ],
   "source": [
    "prediction"
   ]
  }
 ],
 "metadata": {
  "kernelspec": {
   "display_name": "Python 3 (ipykernel)",
   "language": "python",
   "name": "python3"
  },
  "language_info": {
   "codemirror_mode": {
    "name": "ipython",
    "version": 3
   },
   "file_extension": ".py",
   "mimetype": "text/x-python",
   "name": "python",
   "nbconvert_exporter": "python",
   "pygments_lexer": "ipython3",
   "version": "3.9.7"
  }
 },
 "nbformat": 4,
 "nbformat_minor": 5
}
